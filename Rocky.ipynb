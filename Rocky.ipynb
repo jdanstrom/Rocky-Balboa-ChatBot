{
 "cells": [
  {
   "cell_type": "code",
   "execution_count": 14,
   "id": "4df4c18d",
   "metadata": {},
   "outputs": [],
   "source": [
    "import json\n",
    "from chatterbot.trainers import ListTrainer\n",
    "from chatterbot import ChatBot"
   ]
  },
  {
   "cell_type": "code",
   "execution_count": 17,
   "id": "5a77466b",
   "metadata": {},
   "outputs": [
    {
     "name": "stderr",
     "output_type": "stream",
     "text": [
      "[nltk_data] Downloading package averaged_perceptron_tagger to\n",
      "[nltk_data]     C:\\Users\\jrdan\\AppData\\Roaming\\nltk_data...\n",
      "[nltk_data]   Package averaged_perceptron_tagger is already up-to-\n",
      "[nltk_data]       date!\n",
      "[nltk_data] Downloading package punkt to\n",
      "[nltk_data]     C:\\Users\\jrdan\\AppData\\Roaming\\nltk_data...\n",
      "[nltk_data]   Package punkt is already up-to-date!\n",
      "[nltk_data] Downloading package stopwords to\n",
      "[nltk_data]     C:\\Users\\jrdan\\AppData\\Roaming\\nltk_data...\n",
      "[nltk_data]   Package stopwords is already up-to-date!\n"
     ]
    }
   ],
   "source": [
    "\n",
    "chatbot = ChatBot(\"Rocky Balboa\")"
   ]
  },
  {
   "cell_type": "code",
   "execution_count": 18,
   "id": "b5ce07e1",
   "metadata": {},
   "outputs": [],
   "source": [
    "Rocky_chats = {\"intents\": [\n",
    "    {\"tag\":\"greetings\",\n",
    "    \"patterns\":[\"Hey!\",\"Yo\",\"Hey, how you doin\",\"How ya doin'?\"\n",
    "               ,\"How you doin'?\",\"Hey, how ya doin', Mickey?\",\n",
    "               \"Hey, how ya doin'?\",\"Hey, Mick, how ya doin'?\",\n",
    "               \"Hey, how ya doin', champ?\",\"Hey, woman, how ya doin'?\",\n",
    "               \"Hey, Mick, how ya doin'?\",\"Yo, Adrian!\",\n",
    "               \"How you doin', buddy?\",\"How you doin', man?\",\n",
    "               \"How you doin', Duke?\",\"Hey, how ya doin' there, champ?\"]}\n",
    "]\n",
    "}\n",
    "Rocky_start = [\"Hey!\",\"Yo\",\"Hey, how you doin\",\"How ya doin'?\"\n",
    "               ,\"How you doin'?\",\"Hey, how ya doin', Mickey?\",\n",
    "               \"Hey, how ya doin'?\",\"Hey, Mick, how ya doin'?\",\n",
    "               \"Hey, how ya doin', champ?\",\"Hey, woman, how ya doin'?\",\n",
    "               \"Hey, Mick, how ya doin'?\",\"Yo, Adrian!\",\n",
    "               \"How you doin', buddy?\",\"How you doin', man?\",\n",
    "               \"How you doin', Duke?\",\"Hey, how ya doin' there, champ?\"]\n"
   ]
  },
  {
   "cell_type": "code",
   "execution_count": 19,
   "id": "79c3f166",
   "metadata": {},
   "outputs": [
    {
     "name": "stdout",
     "output_type": "stream",
     "text": [
      "List Trainer: [####################] 100%\n"
     ]
    }
   ],
   "source": [
    "trainer = ListTrainer(chatbot)\n",
    "\n",
    "trainer.train(Rocky_start)"
   ]
  },
  {
   "cell_type": "code",
   "execution_count": 22,
   "id": "223a061a",
   "metadata": {},
   "outputs": [
    {
     "name": "stdout",
     "output_type": "stream",
     "text": [
      "Yo rocky what's up\n"
     ]
    }
   ],
   "source": [
    "user_input = input()"
   ]
  },
  {
   "cell_type": "code",
   "execution_count": 24,
   "id": "1058f8c4",
   "metadata": {},
   "outputs": [
    {
     "name": "stdout",
     "output_type": "stream",
     "text": [
      "How you doin'?\n"
     ]
    }
   ],
   "source": [
    "response = chatbot.get_response(user_input)\n",
    "print(response)"
   ]
  },
  {
   "cell_type": "code",
   "execution_count": null,
   "id": "2ecb7da5",
   "metadata": {},
   "outputs": [],
   "source": []
  }
 ],
 "metadata": {
  "kernelspec": {
   "display_name": "Python 3 (ipykernel)",
   "language": "python",
   "name": "python3"
  },
  "language_info": {
   "codemirror_mode": {
    "name": "ipython",
    "version": 3
   },
   "file_extension": ".py",
   "mimetype": "text/x-python",
   "name": "python",
   "nbconvert_exporter": "python",
   "pygments_lexer": "ipython3",
   "version": "3.9.12"
  }
 },
 "nbformat": 4,
 "nbformat_minor": 5
}
